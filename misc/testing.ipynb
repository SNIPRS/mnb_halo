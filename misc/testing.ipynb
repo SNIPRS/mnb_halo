{
 "cells": [
  {
   "cell_type": "code",
   "execution_count": 46,
   "metadata": {},
   "outputs": [],
   "source": [
    "import numpy as np\n",
    "import pygame\n",
    "from PIL import Image, ImageFilter\n",
    "# from G import WIDTH, HEIGHT\n",
    "\n",
    "def generate_cloud_texture(width, height, scale=10, blur_radius=2):\n",
    "    low_res_width = width // scale\n",
    "    low_res_height = height // scale\n",
    "    noise = np.random.rand(low_res_height, low_res_width) * 255\n",
    "\n",
    "    noise_image = Image.fromarray(noise.astype(np.uint8), mode='L')\n",
    "    noise_image = noise_image.resize((width, height), Image.BILINEAR)\n",
    "    return np.asarray(noise_image.convert('RGB'), dtype=np.float32) / 255\n",
    "\n",
    "def generate_green_base(width = 600, height = 1000, scale = 2, blur_radius = 20, brightness = 0.7):\n",
    "    msk = generate_cloud_texture(width, height, scale, blur_radius)\n",
    "    green = np.zeros(msk.shape)\n",
    "    green[:,:,0] = 0\n",
    "    green[:,:,1] = brightness\n",
    "    green[:,:,2] = brightness/2\n",
    "    bk = green * msk\n",
    "    return bk\n",
    "\n",
    "def to_image(bk):\n",
    "    return Image.fromarray((255 * bk).astype(np.uint8), mode='RGB')"
   ]
  },
  {
   "cell_type": "code",
   "execution_count": 198,
   "metadata": {},
   "outputs": [
    {
     "data": {
      "image/png": "[encoded data removed]",
      "text/plain": [
       "<PIL.Image.Image image mode=RGBA size=16x16>"
      ]
     },
     "metadata": {},
     "output_type": "display_data"
    }
   ],
   "source": [
    "from PIL import Image, ImageDraw\n",
    "import random\n",
    "import math\n",
    "\n",
    "# Function to generate a star-like shape (flash)\n",
    "def generate_flash_star(image_size, center, num_points, min_radius, max_radius, angle_var=0.01,\n",
    "                        colour='yellow', r = 0):\n",
    "    img = Image.new('RGBA', (image_size, image_size), (0, 0, 0, 0))  # Transparent background\n",
    "    draw = ImageDraw.Draw(img)\n",
    "\n",
    "    angle_step = 360 / num_points\n",
    "    def get_points():\n",
    "        points = []\n",
    "\n",
    "        for i in range(num_points):\n",
    "            # Calculate the angle for this point\n",
    "            angle_deg = i * angle_step\n",
    "            angle_rad = math.radians(angle_deg) + random.uniform(-angle_var, angle_var)\n",
    "\n",
    "            # Alternate between randomizing the radius for inner and outer points\n",
    "            if i % 2 == 0:\n",
    "                radius = random.uniform(min_radius, max_radius)\n",
    "            else:\n",
    "                radius = random.uniform(min_radius // 2, min_radius)  # inner radius variation\n",
    "\n",
    "            # Calculate the x, y coordinates of the point\n",
    "            x = center[0] + radius * math.cos(angle_rad)\n",
    "            y = center[1] + radius * math.sin(angle_rad)\n",
    "            points.append((x, y))\n",
    "        return points\n",
    "\n",
    "    # Draw the star shape\n",
    "    draw.polygon(get_points(), fill=colour, outline=colour)\n",
    "    if r > 0:\n",
    "        draw.ellipse((center[0]-r, center[1]-r, center[0]+r, center[1]+r), fill=(0,0,0,255))\n",
    "    return img\n",
    "\n",
    "def add_sparks(image, num_sparks):\n",
    "    width, height = image.size\n",
    "    pixels = image.load()\n",
    "    center_x, center_y = width // 2, height // 2\n",
    "    spread = min(width, height) // 4  # Controls the concentration range\n",
    "\n",
    "    for _ in range(num_sparks):\n",
    "        # Generate coordinates concentrated around the center\n",
    "        x = int(random.gauss(center_x, spread / 2))\n",
    "        y = int(random.gauss(center_y, spread / 2))\n",
    "\n",
    "        # Ensure the coordinates are within the image bounds\n",
    "        if 0 <= x < width and 0 <= y < height:\n",
    "            pixels[x, y] = (255, 255, 0)  # Yellow color for spark (R, G, B)\n",
    "    return image\n",
    "\n",
    "\n",
    "# Parameters\n",
    "image_size = 16  # Image size (400x400)\n",
    "edge_c = (image_size//2, image_size//2)  # Center of the star\n",
    "num_points = 24  # Number of points in the star\n",
    "min_radius = 4  # Minimum distance from center\n",
    "max_radius = 5  # Maximum distance from center\n",
    "circle_radius = 0\n",
    "\n",
    "# Generate and save the star image\n",
    "colour = (250, 250, 100)\n",
    "flash_star = generate_flash_star(image_size, edge_c, num_points, min_radius, max_radius, 0.2,\n",
    "                                 colour = colour, r = circle_radius)\n",
    "\n",
    "display(flash_star)"
   ]
  },
  {
   "cell_type": "code",
   "execution_count": 193,
   "metadata": {},
   "outputs": [
    {
     "data": {
      "image/png": "[encoded data removed]",
      "text/plain": [
       "<PIL.Image.Image image mode=RGBA size=16x16>"
      ]
     },
     "metadata": {},
     "output_type": "display_data"
    }
   ],
   "source": [
    "# Parameters\n",
    "image_size = 16  # Image size (400x400)\n",
    "edge_c = (image_size//2, image_size//2)  # Center of the star\n",
    "num_points = 16  # Number of points in the star\n",
    "min_radius = 1  # Minimum distance from center\n",
    "max_radius = 7  # Maximum distance from center\n",
    "circle_radius = 0\n",
    "\n",
    "# Generate and save the star image\n",
    "colour = (255, 255, 255)\n",
    "inner_star = generate_flash_star(image_size, edge_c, num_points, min_radius, max_radius, 0.2,\n",
    "                                 colour = colour, r = circle_radius)\n",
    "\n",
    "display(inner_star)"
   ]
  },
  {
   "cell_type": "code",
   "execution_count": 199,
   "metadata": {},
   "outputs": [
    {
     "data": {
      "image/png": "[encoded data removed]",
      "text/plain": [
       "<PIL.Image.Image image mode=RGBA size=16x16>"
      ]
     },
     "metadata": {},
     "output_type": "display_data"
    }
   ],
   "source": [
    "flash_star.paste(inner_star, (0,0), inner_star)\n",
    "# flash_star = add_sparks(flash_star, 3)\n",
    "display(flash_star)"
   ]
  },
  {
   "cell_type": "code",
   "execution_count": 200,
   "metadata": {},
   "outputs": [
    {
     "data": {
      "image/png": "[encoded data removed]",
      "text/plain": [
       "<PIL.Image.Image image mode=RGBA size=16x16>"
      ]
     },
     "metadata": {},
     "output_type": "display_data"
    }
   ],
   "source": [
    "flash_star.paste(inner_star, (0,0), inner_star)\n",
    "# flash_star = add_sparks(flash_star, 3)\n",
    "display(flash_star)"
   ]
  },
  {
   "cell_type": "code",
   "execution_count": 201,
   "metadata": {},
   "outputs": [],
   "source": [
    "flash_star.save(\"../assets/decals/explosion/small_spark/spark2.png\")  # Save as PNG"
   ]
  },
  {
   "cell_type": "code",
   "execution_count": 165,
   "metadata": {},
   "outputs": [],
   "source": [
    "# Plasma Center\n",
    "\n",
    "# Parameters\n",
    "image_size = 12  # Image size (400x400)\n",
    "edge_c = (image_size//2, image_size//2)  # Center of the star\n",
    "num_points = 24  # Number of points in the star\n",
    "min_radius = 2  # Minimum distance from center\n",
    "max_radius = 3  # Maximum distance from center\n",
    "circle_radius = 1.5\n",
    "\n",
    "# Generate and save the star image\n",
    "colour = (40, 40, 40, 100)\n",
    "flash_star = generate_flash_star(image_size, edge_c, num_points, min_radius, max_radius, 0.2,\n",
    "                                 colour = colour, r = circle_radius)\n",
    "display(flash_star)\n",
    "flash_star.save(\"../assets/decals/burns/plasma_center1.png\")  # Save as PNG"
   ]
  },
  {
   "cell_type": "code",
   "execution_count": 202,
   "metadata": {},
   "outputs": [
    {
     "data": {
      "image/png": "[encoded data removed]",
      "text/plain": [
       "<PIL.Image.Image image mode=RGBA size=100x100>"
      ]
     },
     "metadata": {},
     "output_type": "display_data"
    }
   ],
   "source": [
    "from PIL import Image, ImageDraw\n",
    "import random\n",
    "\n",
    "def generate_lighting_texture(width, height, glow_center, max_radius, center_color, edge_color):\n",
    "    # Create a blank image with transparency\n",
    "    image = Image.new(\"RGBA\", (width, height), (0, 0, 0, 0))\n",
    "    draw = ImageDraw.Draw(image)\n",
    "\n",
    "    # Draw gradient circles to simulate a lighting texture\n",
    "    for r in range(max_radius, 0, -1):\n",
    "        # Calculate gradient color based on radius\n",
    "        ratio = r / max_radius\n",
    "        color = (\n",
    "            int(edge_color[0] * ratio + center_color[0] * (1 - ratio)),\n",
    "            int(edge_color[1] * ratio + center_color[1] * (1 - ratio)),\n",
    "            int(edge_color[2] * ratio + center_color[2] * (1 - ratio)),\n",
    "            int(255 * (1 - ratio))  # Transparency gradient\n",
    "        )\n",
    "        draw.ellipse(\n",
    "            (glow_center[0] - r, glow_center[1] - r, glow_center[0] + r, glow_center[1] + r),\n",
    "            fill=color\n",
    "        )\n",
    "\n",
    "    # Add random noise for more texture (optional)\n",
    "    # for _ in range(300):\n",
    "    #     x = random.randint(0, width - 1)\n",
    "    #     y = random.randint(0, height - 1)\n",
    "    #     intensity = random.randint(100, 200)\n",
    "    #     image.putpixel((x, y), (intensity, intensity, intensity, random.randint(50, 150)))\n",
    "\n",
    "    return image\n",
    "\n",
    "# Parameters for texture\n",
    "width, height = 100, 100\n",
    "glow_center = (width // 2, height // 2)\n",
    "max_radius = 20\n",
    "center_color = (150, 100, 200)  # Soft yellowish center\n",
    "edge_color = (50, 25, 70)       # Dark blue edge\n",
    "\n",
    "# Generate and show lighting texture\n",
    "texture = generate_lighting_texture(width, height, glow_center, max_radius, center_color, edge_color)\n",
    "display(texture)"
   ]
  },
  {
   "cell_type": "code",
   "execution_count": 203,
   "metadata": {},
   "outputs": [
    {
     "data": {
      "image/png": "[encoded data removed]",
      "text/plain": [
       "<PIL.Image.Image image mode=RGBA size=100x100>"
      ]
     },
     "metadata": {},
     "output_type": "display_data"
    }
   ],
   "source": [
    "width, height = 100, 100\n",
    "glow_center = (width // 2, height // 2)\n",
    "max_radius = 10\n",
    "center_color = (200, 150, 255)\n",
    "edge_color = (75, 50, 100)\n",
    "\n",
    "# Generate and show lighting texture\n",
    "itexture = generate_lighting_texture(width, height, glow_center, max_radius, center_color, edge_color)\n",
    "display(itexture)"
   ]
  },
  {
   "cell_type": "code",
   "execution_count": 204,
   "metadata": {},
   "outputs": [
    {
     "data": {
      "image/png": "[encoded data removed]",
      "text/plain": [
       "<PIL.Image.Image image mode=RGBA size=100x100>"
      ]
     },
     "metadata": {},
     "output_type": "display_data"
    }
   ],
   "source": [
    "texture.paste(itexture, (0,0), itexture)\n",
    "display(texture)"
   ]
  },
  {
   "cell_type": "code",
   "execution_count": 205,
   "metadata": {},
   "outputs": [],
   "source": [
    "texture.save(\"../assets/decals/explosion/plasma_mark/purple.png\")  # Save as PNG"
   ]
  },
  {
   "cell_type": "code",
   "execution_count": 141,
   "metadata": {},
   "outputs": [],
   "source": [
    "from PIL import Image, ImageDraw\n",
    "import numpy as np\n",
    "\n",
    "def create_teardrop(width, height, head_radius, tail_length, center_brightness=255, edge_brightness=50):\n",
    "    # Create an image with transparency\n",
    "    image = Image.new(\"RGBA\", (width, height), (0, 0, 0, 0))\n",
    "    draw = ImageDraw.Draw(image)\n",
    "\n",
    "    # Calculate the position of the head's center\n",
    "    head_center = (width // 2, head_radius)\n",
    "\n",
    "    # Draw the teardrop shape using polygon\n",
    "    # Define the points from head to tail for a teardrop shape\n",
    "    points = [\n",
    "        (head_center[0] - head_radius, head_center[1]),  # Left of head\n",
    "        (head_center[0], head_center[1] + tail_length),  # Bottom of tail\n",
    "        (head_center[0] + head_radius, head_center[1]),  # Right of head\n",
    "    ]\n",
    "\n",
    "    draw.polygon(points, fill=(255, 255, 255, 255))  # Temporarily white for shape definition\n",
    "\n",
    "    # Apply a gradient from the center of the head outward\n",
    "    for y in range(height):\n",
    "        for x in range(width):\n",
    "            dx = x - head_center[0]\n",
    "            dy = y - head_center[1]\n",
    "            distance = np.sqrt(dx**2 + dy**2)\n",
    "            \n",
    "            # Calculate brightness based on distance from the center\n",
    "            brightness = max(\n",
    "                edge_brightness,\n",
    "                center_brightness - int((center_brightness - edge_brightness) * (distance / head_radius))\n",
    "            )\n",
    "            # Check if the pixel is within the shape to apply gradient\n",
    "            if image.getpixel((x, y))[3] != 0:\n",
    "                image.putpixel((x, y), (brightness, brightness, brightness, 255))\n",
    "\n",
    "    return image\n",
    "\n",
    "# Parameters for the teardrop\n",
    "width, height = 200, 400\n",
    "head_radius = 60\n",
    "tail_length = 200\n",
    "\n",
    "# Create the teardrop image\n",
    "teardrop_image = create_teardrop(width, height, head_radius, tail_length)\n",
    "teardrop_image.show()\n",
    "\n"
   ]
  }
 ],
 "metadata": {
  "kernelspec": {
   "display_name": "venv",
   "language": "python",
   "name": "python3"
  },
  "language_info": {
   "codemirror_mode": {
    "name": "ipython",
    "version": 3
   },
   "file_extension": ".py",
   "mimetype": "text/x-python",
   "name": "python",
   "nbconvert_exporter": "python",
   "pygments_lexer": "ipython3",
   "version": "3.10.7"
  }
 },
 "nbformat": 4,
 "nbformat_minor": 2
}
