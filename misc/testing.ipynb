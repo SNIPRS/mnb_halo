{
 "cells": [
  {
   "cell_type": "code",
   "execution_count": 65,
   "metadata": {},
   "outputs": [
    {
     "name": "stdout",
     "output_type": "stream",
     "text": [
      "pygame 2.6.1 (SDL 2.28.4, Python 3.12.4)\n",
      "Hello from the pygame community. https://www.pygame.org/contribute.html\n"
     ]
    }
   ],
   "source": [
    "import numpy as np\n",
    "import pygame\n",
    "from PIL import Image, ImageFilter\n",
    "# from G import WIDTH, HEIGHT\n",
    "\n",
    "def generate_cloud_texture(width, height, scale=10, blur_radius=2):\n",
    "    low_res_width = width // scale\n",
    "    low_res_height = height // scale\n",
    "    noise = np.random.rand(low_res_height, low_res_width) * 255\n",
    "\n",
    "    noise_image = Image.fromarray(noise.astype(np.uint8), mode='L')\n",
    "    noise_image = noise_image.resize((width, height), Image.BILINEAR)\n",
    "    return np.asarray(noise_image.convert('RGB'), dtype=np.float32) / 255\n",
    "\n",
    "def generate_green_base(width = 600, height = 1000, scale = 2, blur_radius = 20, brightness = 0.7):\n",
    "    msk = generate_cloud_texture(width, height, scale, blur_radius)\n",
    "    green = np.zeros(msk.shape)\n",
    "    green[:,:,0] = 0\n",
    "    green[:,:,1] = brightness\n",
    "    green[:,:,2] = brightness/2\n",
    "    bk = green * msk\n",
    "    return bk\n",
    "\n",
    "def to_image(bk):\n",
    "    return Image.fromarray((255 * bk).astype(np.uint8), mode='RGB')"
   ]
  },
  {
   "cell_type": "code",
   "execution_count": 112,
   "metadata": {},
   "outputs": [
    {
     "data": {
      "image/png": "[encoded data removed]",
      "text/plain": [
       "<PIL.Image.Image image mode=RGBA size=120x120>"
      ]
     },
     "metadata": {},
     "output_type": "display_data"
    }
   ],
   "source": [
    "from PIL import Image, ImageDraw\n",
    "import random\n",
    "import math\n",
    "\n",
    "# Function to generate a star-like shape (flash)\n",
    "def generate_flash_star(image_size, center, num_points, min_radius, max_radius, angle_var=0.01,\n",
    "                        colour='yellow', r = 0):\n",
    "    img = Image.new('RGBA', (image_size, image_size), (0, 0, 0, 0))  # Transparent background\n",
    "    draw = ImageDraw.Draw(img)\n",
    "\n",
    "    angle_step = 360 / num_points\n",
    "    def get_points():\n",
    "        points = []\n",
    "\n",
    "        for i in range(num_points):\n",
    "            # Calculate the angle for this point\n",
    "            angle_deg = i * angle_step\n",
    "            angle_rad = math.radians(angle_deg) + random.uniform(-angle_var, angle_var)\n",
    "\n",
    "            # Alternate between randomizing the radius for inner and outer points\n",
    "            if i % 2 == 0:\n",
    "                radius = random.uniform(min_radius, max_radius)\n",
    "            else:\n",
    "                radius = random.uniform(min_radius // 2, min_radius)  # inner radius variation\n",
    "\n",
    "            # Calculate the x, y coordinates of the point\n",
    "            x = center[0] + radius * math.cos(angle_rad)\n",
    "            y = center[1] + radius * math.sin(angle_rad)\n",
    "            points.append((x, y))\n",
    "        return points\n",
    "\n",
    "    # Draw the star shape\n",
    "    draw.polygon(get_points(), fill=colour, outline=colour)\n",
    "    if r > 0:\n",
    "        draw.ellipse((center[0]-r, center[1]-r, center[0]+r, center[1]+r), fill=(0,0,0,255))\n",
    "    return img\n",
    "\n",
    "# Parameters\n",
    "image_size = 120  # Image size (400x400)\n",
    "center = (image_size//2, image_size//2)  # Center of the star\n",
    "num_points = 20  # Number of points in the star\n",
    "min_radius = 8  # Minimum distance from center\n",
    "max_radius = 25  # Maximum distance from center\n",
    "circle_radius = 0\n",
    "\n",
    "# Generate and save the star image\n",
    "colour = (255, 255, 150)\n",
    "flash_star = generate_flash_star(image_size, center, num_points, min_radius, max_radius, 0.2,\n",
    "                                 colour = colour, r = circle_radius)\n",
    "\n",
    "display(flash_star)"
   ]
  },
  {
   "cell_type": "code",
   "execution_count": 125,
   "metadata": {},
   "outputs": [
    {
     "data": {
      "image/png": "[encoded data removed]",
      "text/plain": [
       "<PIL.Image.Image image mode=RGBA size=120x120>"
      ]
     },
     "metadata": {},
     "output_type": "display_data"
    }
   ],
   "source": [
    "# Parameters\n",
    "image_size = 120  # Image size (400x400)\n",
    "center = (image_size//2, image_size//2)  # Center of the star\n",
    "num_points = 12  # Number of points in the star\n",
    "min_radius = 7  # Minimum distance from center\n",
    "max_radius = 50  # Maximum distance from center\n",
    "circle_radius = 0\n",
    "\n",
    "# Generate and save the star image\n",
    "colour = (255, 120, 30, 200)\n",
    "inner_star = generate_flash_star(image_size, center, num_points, min_radius, max_radius, 0.2,\n",
    "                                 colour = colour, r = circle_radius)\n",
    "\n",
    "display(inner_star)"
   ]
  },
  {
   "cell_type": "code",
   "execution_count": 126,
   "metadata": {},
   "outputs": [
    {
     "data": {
      "image/png": "[encoded data removed]",
      "text/plain": [
       "<PIL.Image.Image image mode=RGBA size=120x120>"
      ]
     },
     "metadata": {},
     "output_type": "display_data"
    }
   ],
   "source": [
    "flash_star.paste(inner_star, (0,0), inner_star)\n",
    "display(flash_star)"
   ]
  },
  {
   "cell_type": "code",
   "execution_count": 127,
   "metadata": {},
   "outputs": [],
   "source": [
    "flash_star.save(\"/home/tao.zhang/git_personal/mnb_halo/assets/decals/explosion/ex2.png\")  # Save as PNG"
   ]
  }
 ],
 "metadata": {
  "kernelspec": {
   "display_name": "venv",
   "language": "python",
   "name": "python3"
  },
  "language_info": {
   "codemirror_mode": {
    "name": "ipython",
    "version": 3
   },
   "file_extension": ".py",
   "mimetype": "text/x-python",
   "name": "python",
   "nbconvert_exporter": "python",
   "pygments_lexer": "ipython3",
   "version": "3.12.4"
  }
 },
 "nbformat": 4,
 "nbformat_minor": 2
}
